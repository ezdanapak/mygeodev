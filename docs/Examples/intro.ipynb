{
 "cells": [
  {
   "cell_type": "markdown",
   "id": "725922d5",
   "metadata": {},
   "source": [
    "[![Open In Colab დასაკორექტირებელია](https://colab.research.google.com/assets/colab-badge.svg)](https://colab.research.google.com/github/YOUR_USERNAME/pygeomap/blob/main/notebooks/map_examples.ipynb)\n"
   ]
  },
  {
   "cell_type": "code",
   "execution_count": null,
   "id": "3a89ee6b",
   "metadata": {
    "vscode": {
     "languageId": "plaintext"
    }
   },
   "outputs": [],
   "source": [
    "from mygeodev.maps.ipyleaflet_map import IPyMap\n",
    "from mygeodev.maps.folium_map import FoliumMap\n",
    "\n",
    "# ipyleaflet example\n",
    "m1 = IPyMap(center=(42.0, 43.5), zoom=7)\n",
    "m1.add_basemap(\"OpenStreetMap\")\n",
    "m1.add_layer_control()\n",
    "m1\n",
    "\n",
    "# folium example\n",
    "m2 = FoliumMap(location=[42.0, 43.5], zoom_start=7)\n",
    "m2.add_basemap(\"Esri WorldImagery\")\n",
    "m2.add_layer_control()\n",
    "m2.save(\"folium_map.html\")\n"
   ]
  }
 ],
 "metadata": {
  "language_info": {
   "name": "python"
  }
 },
 "nbformat": 4,
 "nbformat_minor": 5
}
