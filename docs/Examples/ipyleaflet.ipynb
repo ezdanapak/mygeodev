{
 "cells": [
  {
   "cell_type": "markdown",
   "id": "6eec35c2",
   "metadata": {},
   "source": [
    "[![Open In Colabდასაკორექტირებელია](https://colab.research.google.com/assets/colab-badge.svg)](https://colab.research.google.com/github/YOUR_USERNAME/pygeomap/blob/main/notebooks/ipyleaflet_example.ipynb)\n"
   ]
  },
  {
   "cell_type": "code",
   "execution_count": null,
   "id": "e1b43592",
   "metadata": {
    "vscode": {
     "languageId": "plaintext"
    }
   },
   "outputs": [],
   "source": [
    "# Map Demo with ipyleaflet\n",
    "\n",
    "from pygeomap.maps.ipyleaflet_map import IPyMap\n",
    "import geopandas as gpd\n",
    "\n",
    "# Create the map\n",
    "m = IPyMap(center=(42.0, 43.5), zoom=6)\n",
    "\n",
    "# Add a basemap\n",
    "m.add_basemap(\"OpenStreetMap\")\n",
    "\n",
    "# Add layer control\n",
    "m.add_layer_control()\n",
    "\n",
    "# Add a vector layer from GeoPandas (world countries dataset)\n",
    "world = gpd.read_file(gpd.datasets.get_path(\"naturalearth_lowres\"))\n",
    "m.add_vector(world)\n",
    "\n",
    "# Display map\n",
    "m\n"
   ]
  }
 ],
 "metadata": {
  "language_info": {
   "name": "python"
  }
 },
 "nbformat": 4,
 "nbformat_minor": 5
}
