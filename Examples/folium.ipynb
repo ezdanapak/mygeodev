{
 "cells": [
  {
   "cell_type": "markdown",
   "id": "c61a3623",
   "metadata": {},
   "source": [
    "[![Open In Colabდასაკორექტირებელია](https://colab.research.google.com/assets/colab-badge.svg)](https://colab.research.google.com/github/YOUR_USERNAME/pygeomap/blob/main/notebooks/folium_example.ipynb)\n"
   ]
  },
  {
   "cell_type": "code",
   "execution_count": 5,
   "id": "72cf44c8",
   "metadata": {},
   "outputs": [
    {
     "ename": "ModuleNotFoundError",
     "evalue": "No module named 'mygeodev'",
     "output_type": "error",
     "traceback": [
      "\u001b[1;31m---------------------------------------------------------------------------\u001b[0m",
      "\u001b[1;31mModuleNotFoundError\u001b[0m                       Traceback (most recent call last)",
      "Cell \u001b[1;32mIn[5], line 3\u001b[0m\n\u001b[0;32m      1\u001b[0m \u001b[38;5;66;03m# Map Demo with folium\u001b[39;00m\n\u001b[1;32m----> 3\u001b[0m \u001b[38;5;28;01mfrom\u001b[39;00m \u001b[38;5;21;01mmygeodev\u001b[39;00m\u001b[38;5;21;01m.\u001b[39;00m\u001b[38;5;21;01mmaps\u001b[39;00m\u001b[38;5;21;01m.\u001b[39;00m\u001b[38;5;21;01mfolium_map\u001b[39;00m \u001b[38;5;28;01mimport\u001b[39;00m FoliumMap\n\u001b[0;32m      4\u001b[0m \u001b[38;5;28;01mimport\u001b[39;00m \u001b[38;5;21;01mgeopandas\u001b[39;00m \u001b[38;5;28;01mas\u001b[39;00m \u001b[38;5;21;01mgpd\u001b[39;00m\n\u001b[0;32m      5\u001b[0m \u001b[38;5;28;01mfrom\u001b[39;00m \u001b[38;5;21;01mIPython\u001b[39;00m\u001b[38;5;21;01m.\u001b[39;00m\u001b[38;5;21;01mdisplay\u001b[39;00m \u001b[38;5;28;01mimport\u001b[39;00m IFrame\n",
      "\u001b[1;31mModuleNotFoundError\u001b[0m: No module named 'mygeodev'"
     ]
    }
   ],
   "source": [
    "# Map Demo with folium\n",
    "\n",
    "from mygeodev.maps.folium_map import FoliumMap\n",
    "import geopandas as gpd\n",
    "from IPython.display import IFrame\n",
    "\n",
    "# Create the map\n",
    "m = FoliumMap(location=[42.0, 43.5], zoom_start=6)\n",
    "\n",
    "# Add a basemap\n",
    "m.add_basemap(\"Esri WorldImagery\")\n",
    "\n",
    "# Add layer control\n",
    "m.add_layer_control()\n",
    "\n",
    "# Add vector layer\n",
    "world = gpd.read_file(gpd.datasets.get_path(\"naturalearth_lowres\"))\n",
    "m.add_vector(world)\n",
    "\n",
    "# Save map to HTML and display it\n",
    "m.save(\"folium_map.html\")\n",
    "IFrame(\"folium_map.html\", width=700, height=500)\n"
   ]
  }
 ],
 "metadata": {
  "kernelspec": {
   "display_name": "base",
   "language": "python",
   "name": "python3"
  },
  "language_info": {
   "codemirror_mode": {
    "name": "ipython",
    "version": 3
   },
   "file_extension": ".py",
   "mimetype": "text/x-python",
   "name": "python",
   "nbconvert_exporter": "python",
   "pygments_lexer": "ipython3",
   "version": "3.12.7"
  }
 },
 "nbformat": 4,
 "nbformat_minor": 5
}
