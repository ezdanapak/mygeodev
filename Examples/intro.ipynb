{
 "cells": [
  {
   "cell_type": "markdown",
   "id": "725922d5",
   "metadata": {},
   "source": [
    "[![Open In Colab დასაკორექტირებელია](https://colab.research.google.com/assets/colab-badge.svg)](https://colab.research.google.com/github/YOUR_USERNAME/pygeomap/blob/main/notebooks/map_examples.ipynb)\n"
   ]
  },
  {
   "cell_type": "code",
   "execution_count": null,
   "id": "3a89ee6b",
   "metadata": {},
   "outputs": [],
   "source": [
    "from mygeodev.maps.ipyleaflet_map import IPyMap\n",
    "from mygeodev.maps.folium_map import FoliumMap\n",
    "\n",
    "# ipyleaflet example\n",
    "m1 = IPyMap(center=(42.0, 43.5), zoom=7)\n",
    "m1.add_basemap(\"OpenStreetMap\")\n",
    "m1.add_layer_control()\n",
    "m1\n",
    "\n",
    "# folium example\n",
    "m2 = FoliumMap(location=[42.0, 43.5], zoom_start=7)\n",
    "m2.add_basemap(\"Esri WorldImagery\")\n",
    "m2.add_layer_control()\n",
    "m2.save(\"folium_map.html\")\n"
   ]
  },
  {
   "cell_type": "code",
   "execution_count": 8,
   "id": "ae6db36c",
   "metadata": {},
   "outputs": [
    {
     "data": {
      "text/plain": [
       "'c:\\\\Files\\\\WEBGIS\\\\mygeodev\\\\docs\\\\Examples'"
      ]
     },
     "execution_count": 8,
     "metadata": {},
     "output_type": "execute_result"
    }
   ],
   "source": [
    "import os\n",
    "os.getcwd()\n",
    "#import mygeodev"
   ]
  },
  {
   "cell_type": "code",
   "execution_count": 9,
   "id": "e7788ef5",
   "metadata": {},
   "outputs": [
    {
     "ename": "ModuleNotFoundError",
     "evalue": "No module named 'mygeodev'",
     "output_type": "error",
     "traceback": [
      "\u001b[1;31m---------------------------------------------------------------------------\u001b[0m",
      "\u001b[1;31mModuleNotFoundError\u001b[0m                       Traceback (most recent call last)",
      "Cell \u001b[1;32mIn[9], line 1\u001b[0m\n\u001b[1;32m----> 1\u001b[0m \u001b[38;5;28;01mimport\u001b[39;00m \u001b[38;5;21;01mmygeodev\u001b[39;00m\n\u001b[0;32m      2\u001b[0m mygeodev\u001b[38;5;241m.\u001b[39m__version__\n",
      "\u001b[1;31mModuleNotFoundError\u001b[0m: No module named 'mygeodev'"
     ]
    }
   ],
   "source": [
    "import mygeodev\n",
    "mygeodev.__version__"
   ]
  }
 ],
 "metadata": {
  "kernelspec": {
   "display_name": "base",
   "language": "python",
   "name": "python3"
  },
  "language_info": {
   "codemirror_mode": {
    "name": "ipython",
    "version": 3
   },
   "file_extension": ".py",
   "mimetype": "text/x-python",
   "name": "python",
   "nbconvert_exporter": "python",
   "pygments_lexer": "ipython3",
   "version": "3.12.7"
  }
 },
 "nbformat": 4,
 "nbformat_minor": 5
}
